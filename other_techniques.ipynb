{
 "cells": [
  {
   "cell_type": "markdown",
   "source": [
    "## spell correction,sentiment and part of speech tagging"
   ],
   "metadata": {
    "collapsed": false
   },
   "id": "c1142ce228e4699"
  },
  {
   "cell_type": "code",
   "execution_count": 4,
   "id": "initial_id",
   "metadata": {
    "collapsed": true,
    "ExecuteTime": {
     "end_time": "2024-01-29T21:03:21.741346800Z",
     "start_time": "2024-01-29T21:03:21.724872800Z"
    }
   },
   "outputs": [
    {
     "data": {
      "text/plain": "TextBlob(\"this is an example\")"
     },
     "execution_count": 4,
     "metadata": {},
     "output_type": "execute_result"
    }
   ],
   "source": [
    "from textblob import TextBlob\n",
    "\n",
    "phrase = \"thiis is an examplee\"\n",
    "tb_phrase = TextBlob(phrase)\n",
    "tb_phrase.correct()"
   ]
  },
  {
   "cell_type": "code",
   "outputs": [
    {
     "data": {
      "text/plain": "TextBlob(\"i read the book\")"
     },
     "execution_count": 5,
     "metadata": {},
     "output_type": "execute_result"
    }
   ],
   "source": [
    "phrase = \"i read the book\"\n",
    "tb_phrase = TextBlob(phrase)\n",
    "tb_phrase.correct()"
   ],
   "metadata": {
    "collapsed": false,
    "ExecuteTime": {
     "end_time": "2024-01-29T21:03:52.731466100Z",
     "start_time": "2024-01-29T21:03:52.725291600Z"
    }
   },
   "id": "9bb7bde2e1ca16e",
   "execution_count": 5
  },
  {
   "cell_type": "code",
   "outputs": [
    {
     "data": {
      "text/plain": "[('i', 'NN'), ('read', 'VBD'), ('the', 'DT'), ('book', 'NN')]"
     },
     "execution_count": 7,
     "metadata": {},
     "output_type": "execute_result"
    }
   ],
   "source": [
    "tb_phrase.tags"
   ],
   "metadata": {
    "collapsed": false,
    "ExecuteTime": {
     "end_time": "2024-01-29T21:05:39.794317400Z",
     "start_time": "2024-01-29T21:05:39.787284200Z"
    }
   },
   "id": "7b83846e71d0766e",
   "execution_count": 7
  },
  {
   "cell_type": "code",
   "outputs": [
    {
     "data": {
      "text/plain": "Sentiment(polarity=0.0, subjectivity=0.0)"
     },
     "execution_count": 8,
     "metadata": {},
     "output_type": "execute_result"
    }
   ],
   "source": [
    "tb_phrase.sentiment"
   ],
   "metadata": {
    "collapsed": false,
    "ExecuteTime": {
     "end_time": "2024-01-29T21:07:46.004974Z",
     "start_time": "2024-01-29T21:07:45.923098400Z"
    }
   },
   "id": "fdea5337f828f7a6",
   "execution_count": 8
  },
  {
   "cell_type": "code",
   "outputs": [
    {
     "data": {
      "text/plain": "Sentiment(polarity=1.0, subjectivity=1.0)"
     },
     "execution_count": 9,
     "metadata": {},
     "output_type": "execute_result"
    }
   ],
   "source": [
    "phrase = \"i read the book and it was awesome\"\n",
    "tb_phrase = TextBlob(phrase)\n",
    "tb_phrase.correct()\n",
    "tb_phrase.sentiment"
   ],
   "metadata": {
    "collapsed": false,
    "ExecuteTime": {
     "end_time": "2024-01-29T21:08:25.411543700Z",
     "start_time": "2024-01-29T21:08:25.322079700Z"
    }
   },
   "id": "9f6ec992276d5c1f",
   "execution_count": 9
  },
  {
   "cell_type": "code",
   "outputs": [],
   "source": [],
   "metadata": {
    "collapsed": false
   },
   "id": "d173844673267ea4"
  }
 ],
 "metadata": {
  "kernelspec": {
   "display_name": "Python 3",
   "language": "python",
   "name": "python3"
  },
  "language_info": {
   "codemirror_mode": {
    "name": "ipython",
    "version": 2
   },
   "file_extension": ".py",
   "mimetype": "text/x-python",
   "name": "python",
   "nbconvert_exporter": "python",
   "pygments_lexer": "ipython2",
   "version": "2.7.6"
  }
 },
 "nbformat": 4,
 "nbformat_minor": 5
}
