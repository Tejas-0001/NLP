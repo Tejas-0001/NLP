{
 "cells": [
  {
   "cell_type": "code",
   "execution_count": 3,
   "id": "initial_id",
   "metadata": {
    "collapsed": true,
    "ExecuteTime": {
     "end_time": "2024-01-29T22:14:10.650145700Z",
     "start_time": "2024-01-29T22:14:09.944666100Z"
    }
   },
   "outputs": [],
   "source": [
    "import spacy\n",
    "import torch\n",
    "\n",
    "spacy.prefer_gpu()\n",
    "nlp = spacy.load(\"en_core_web_md\")"
   ]
  },
  {
   "cell_type": "code",
   "outputs": [],
   "source": [
    "doc = nlp(\"here is some text to encode\")"
   ],
   "metadata": {
    "collapsed": false,
    "ExecuteTime": {
     "end_time": "2024-01-29T22:15:19.988042900Z",
     "start_time": "2024-01-29T22:15:19.973002600Z"
    }
   },
   "id": "30fd46dd29b86a4f",
   "execution_count": 4
  },
  {
   "cell_type": "code",
   "outputs": [],
   "source": [
    "class Category:\n",
    "    BOOKS = \"BOOKS\"\n",
    "    BANK = \"BANK\"\n",
    "    \n",
    "train_x = [\"good characters and plot progression\",\"check out the book\",\"good story. would recommend\",\"novel recommendation\",\"need to make a deposit to the bank\",\"balance inquiry savings\",\"save money\"]\n",
    "train_y = [Category.BOOKS,Category.BOOKS,Category.BOOKS,Category.BOOKS,Category.BANK,Category.BANK,Category.BANK]"
   ],
   "metadata": {
    "collapsed": false,
    "ExecuteTime": {
     "end_time": "2024-01-29T22:19:50.454054800Z",
     "start_time": "2024-01-29T22:19:50.447944200Z"
    }
   },
   "id": "e28f5ac2d49779ce",
   "execution_count": 5
  },
  {
   "cell_type": "code",
   "outputs": [
    {
     "data": {
      "text/plain": "array(['BANK', 'BOOKS'], dtype='<U5')"
     },
     "execution_count": 8,
     "metadata": {},
     "output_type": "execute_result"
    }
   ],
   "source": [
    "from sklearn import svm\n",
    "docs = [nlp(text) for text in train_x]\n",
    "train_x_vectors = [x.vector for x in docs]\n",
    "clf_svm = svm.SVC(kernel='linear')\n",
    "clf_svm.fit(train_x_vectors,train_y)\n",
    "\n",
    "test_x = [\"i need to write a check\",\"check this story out\"]\n",
    "docs = [nlp(text) for text in test_x]\n",
    "test_x_vectors = [x.vector for x in docs]\n",
    "\n",
    "clf_svm.predict(test_x_vectors)"
   ],
   "metadata": {
    "collapsed": false,
    "ExecuteTime": {
     "end_time": "2024-01-29T22:25:24.071709300Z",
     "start_time": "2024-01-29T22:25:24.024767900Z"
    }
   },
   "id": "eb451dca0fbaf40b",
   "execution_count": 8
  },
  {
   "cell_type": "code",
   "outputs": [],
   "source": [],
   "metadata": {
    "collapsed": false
   },
   "id": "36f61563c668e89c",
   "execution_count": null
  }
 ],
 "metadata": {
  "kernelspec": {
   "display_name": "Python 3",
   "language": "python",
   "name": "python3"
  },
  "language_info": {
   "codemirror_mode": {
    "name": "ipython",
    "version": 2
   },
   "file_extension": ".py",
   "mimetype": "text/x-python",
   "name": "python",
   "nbconvert_exporter": "python",
   "pygments_lexer": "ipython2",
   "version": "2.7.6"
  }
 },
 "nbformat": 4,
 "nbformat_minor": 5
}
