{
 "cells": [
  {
   "cell_type": "markdown",
   "source": [
    "WORD_VECTORS\n",
    "\n",
    "semantics, continuous bag of vector"
   ],
   "metadata": {
    "collapsed": false
   },
   "id": "f6065754f6b8bc0f"
  },
  {
   "cell_type": "code",
   "execution_count": 1,
   "id": "initial_id",
   "metadata": {
    "collapsed": true,
    "ExecuteTime": {
     "end_time": "2024-01-29T18:37:18.097922100Z",
     "start_time": "2024-01-29T18:37:17.000012500Z"
    }
   },
   "outputs": [],
   "source": [
    "import spacy\n",
    "nlp = spacy.load('en_core_web_md')\n"
   ]
  },
  {
   "cell_type": "code",
   "outputs": [],
   "source": [
    "train_x = [\"i love the book\",\"this is a great book\", \"the fit is great\",\"i love the shoes\"]\n",
    "class Category:\n",
    "    BOOKS = \"BOOKS\"\n",
    "    CLOTHING = \"CLOTHING\"\n",
    "train_y = [Category.BOOKS,Category.BOOKS,Category.CLOTHING,Category.CLOTHING]"
   ],
   "metadata": {
    "collapsed": false,
    "ExecuteTime": {
     "end_time": "2024-01-29T18:52:24.043729600Z",
     "start_time": "2024-01-29T18:52:24.039353100Z"
    }
   },
   "id": "2b7810e556f4c942",
   "execution_count": 12
  },
  {
   "cell_type": "code",
   "outputs": [],
   "source": [
    "docs = [nlp(text) for text in train_x]\n",
    "train_x_word_vectors = [x.vector for x in docs]"
   ],
   "metadata": {
    "collapsed": false,
    "ExecuteTime": {
     "end_time": "2024-01-29T18:51:21.004282400Z",
     "start_time": "2024-01-29T18:51:20.987800600Z"
    }
   },
   "id": "bfc19f2fb5910612",
   "execution_count": 8
  },
  {
   "cell_type": "code",
   "outputs": [
    {
     "name": "stdout",
     "output_type": "stream",
     "text": [
      "[i love the book, this is a great book, the fit is great, i love the shoes]\n"
     ]
    }
   ],
   "source": [
    "print(docs)"
   ],
   "metadata": {
    "collapsed": false,
    "ExecuteTime": {
     "end_time": "2024-01-29T18:51:22.303700700Z",
     "start_time": "2024-01-29T18:51:22.298879500Z"
    }
   },
   "id": "dec4988ae1915caf",
   "execution_count": 9
  },
  {
   "cell_type": "code",
   "outputs": [
    {
     "name": "stdout",
     "output_type": "stream",
     "text": [
      "i love the book\n"
     ]
    }
   ],
   "source": [
    "print(docs[0])"
   ],
   "metadata": {
    "collapsed": false,
    "ExecuteTime": {
     "end_time": "2024-01-29T18:51:23.143182900Z",
     "start_time": "2024-01-29T18:51:23.139727Z"
    }
   },
   "id": "2792829b9031bc18",
   "execution_count": 10
  },
  {
   "cell_type": "code",
   "outputs": [
    {
     "name": "stdout",
     "output_type": "stream",
     "text": [
      "[-3.9804751e-01 -1.7059250e+00 -9.0664995e-01 -4.5425000e+00\n",
      " -1.1165801e+00 -2.9151249e+00  3.1752450e+00  4.0887251e+00\n",
      " -3.4474750e+00  2.3840599e+00  6.4857249e+00  2.3083498e+00\n",
      " -8.6464500e+00  2.0437698e+00  2.2699749e+00 -1.0261000e+00\n",
      "  4.0915399e+00 -7.4801493e-01  1.1435002e-01 -1.9810501e+00\n",
      "  1.3855026e+00  1.7070000e+00 -2.9752648e+00 -1.9328325e+00\n",
      " -1.4255500e+00 -2.0426226e+00 -3.7064652e+00 -4.3784651e-01\n",
      " -2.0860374e+00  4.4308500e+00 -1.0481000e+00 -7.8117514e-01\n",
      " -1.6870000e+00  1.9781501e+00  1.4894226e+00 -2.8325254e-01\n",
      " -1.4800999e+00  1.4303375e+00  2.6068749e+00 -1.3935680e+00\n",
      " -4.5071498e-01  1.8592875e+00  6.0194993e-01 -2.0355899e+00\n",
      "  5.3853750e+00  3.3568425e+00 -2.6558499e+00 -2.5876875e+00\n",
      " -4.1877502e-01  1.1819749e+00 -1.0135007e-01 -1.6391747e+00\n",
      " -7.5115502e-01 -2.4396350e+00 -5.0018353e+00  4.4182479e-02\n",
      " -1.1361099e+00  3.4045234e+00  4.4069252e+00  1.5867125e+00\n",
      "  7.3212752e+00 -6.2377250e-01 -3.5406952e+00 -1.5487249e+00\n",
      " -2.7915027e+00  4.5692497e-01 -2.8675752e+00 -2.1574497e+00\n",
      "  3.5327253e+00  2.9429674e+00 -3.0028498e+00  4.0561576e+00\n",
      " -2.2131751e+00 -2.7301099e+00  2.2525599e+00  6.7574859e-02\n",
      " -2.9405074e+00  1.8029499e+00 -1.1789126e+00 -2.1746502e+00\n",
      " -2.1985504e-01  1.1351575e+00  3.9773331e+00 -1.4294751e+00\n",
      "  2.7083826e-01  2.8169625e+00  3.3689499e+00 -3.6275029e-02\n",
      " -6.6733754e-01 -2.0622499e+00  5.5217499e-01  2.1563876e+00\n",
      "  5.8253503e+00 -5.5494246e+00 -3.5856503e-01 -1.6503401e+00\n",
      " -1.3458250e+00 -1.4840007e-01  1.7622524e+00 -9.1479999e-01\n",
      "  2.1465900e+00  4.4622073e+00  3.2821400e+00  1.8457750e+00\n",
      " -1.8648493e-01  9.6283495e-01 -1.4834499e+00  4.0102500e-01\n",
      " -2.9797997e+00  7.9937494e-01  2.4522400e+00 -1.5166250e+00\n",
      " -3.7715238e-01  2.3985500e+00  3.3255002e-01  1.7986224e+00\n",
      " -6.8490005e-01 -5.1091760e-01 -1.8716326e+00 -8.0151993e-01\n",
      " -1.2196251e+00 -2.4377999e+00 -8.4822536e-01  4.4465375e+00\n",
      "  1.9551001e+00 -4.5647252e-01  1.1451000e+00 -2.7702999e+00\n",
      " -5.0074500e-01 -1.2053250e+00 -5.6294746e+00  1.9835000e+00\n",
      " -2.7191000e+00 -1.5045950e+00  6.9217503e-01  2.5230401e+00\n",
      " -2.1575000e+00 -1.4835875e+00  3.3636250e+00 -1.8662750e+00\n",
      " -2.0677674e+00  1.4370599e+00  1.0521392e+00  2.1033750e+00\n",
      " -2.1464827e+00  5.6450999e-01  5.3212500e-01 -8.3847724e-02\n",
      " -6.6377509e-01  6.8043244e-01 -2.0621850e+00  2.8536501e+00\n",
      " -1.7352247e+00 -2.8443000e+00 -5.3201753e-01  8.3302242e-01\n",
      "  3.7822717e-01  9.0502751e-01 -9.2559004e-01  2.6364100e-01\n",
      " -2.1059022e+00 -4.7094274e+00 -2.3757493e-01  1.3409747e-01\n",
      " -1.4695925e+00  1.1836300e+00 -1.7678249e+00 -2.0474751e+00\n",
      " -3.1015801e+00 -2.7474751e+00  2.3939500e+00  2.9119998e-01\n",
      " -6.4154994e-01  2.9983025e+00  2.3853002e+00 -3.8257499e+00\n",
      "  4.6561250e-01  2.4625850e+00 -4.1938251e-01  6.9829524e-01\n",
      " -7.1579993e-01 -1.4624953e-02  3.2372375e+00 -3.2502999e+00\n",
      "  4.5349836e-02  4.1063027e+00 -2.2001500e+00 -1.6467290e+00\n",
      "  3.1262751e+00  1.4225700e+00  3.6304951e-02  1.4041975e+00\n",
      " -1.5605751e+00  2.3753252e+00  2.6392999e+00 -1.5464250e+00\n",
      " -5.9728498e+00  1.9010249e+00 -1.8664751e+00  5.6060200e+00\n",
      " -9.5827496e-01 -1.9006126e+00 -4.8451276e+00 -5.8231246e-01\n",
      " -7.2317505e-01 -2.2110374e+00  8.1549001e-01 -1.0414025e+00\n",
      "  1.9058951e+00 -3.8605497e+00  3.5286000e+00  1.3662599e+00\n",
      "  2.2550497e+00  2.5063176e+00 -2.7124995e-01  1.9068251e+00\n",
      " -2.3303626e+00 -3.5958242e-01  7.9588258e-01 -1.6820974e+00\n",
      " -3.7828848e+00  2.2385600e+00 -2.3069249e-01  3.8866749e+00\n",
      " -2.9949999e+00 -7.2774887e-02 -5.2936137e-01  2.3862777e+00\n",
      "  2.7844000e+00  2.0868599e+00 -1.0202500e+00 -6.6188755e+00\n",
      "  2.5358500e+00  2.3292500e-01 -1.5609975e+00  1.4913775e+00\n",
      "  4.9717754e-01  6.1425052e+00 -9.3077004e-01 -1.0970299e+00\n",
      " -3.2835951e+00 -4.0366502e+00  2.8092499e+00  5.4461503e-01\n",
      "  5.1136999e+00 -4.7508508e-01 -3.0958500e+00 -1.6869251e+00\n",
      "  5.5714927e+00 -5.8892751e-01 -2.1862252e+00  7.2488189e-04\n",
      " -5.1041250e+00 -2.0981116e+00 -3.4806490e-01 -1.5959325e+00\n",
      " -4.2672509e-01  1.1591926e+00 -3.7716749e+00  2.1917500e+00\n",
      "  2.8775399e+00  3.8451598e+00  4.2834749e+00  2.1570098e+00\n",
      "  2.5055449e+00 -1.2231750e+00  4.1285264e-01  1.1988211e+00\n",
      " -4.9739499e+00  1.0778250e+00  4.2271227e-01 -3.8091974e+00\n",
      " -3.7465799e+00 -1.0162874e+00 -1.5726924e+00 -3.8487256e-01\n",
      "  2.0939450e+00 -3.7680500e+00  2.6195997e-01  2.4638376e+00\n",
      " -1.9473826e+00 -1.5511725e+00  3.0020747e+00  4.0775223e+00\n",
      "  4.7141755e-01 -1.4983499e-01  2.5353000e+00  2.0879149e+00\n",
      " -1.3202243e-01 -2.3845255e-01  4.0010076e+00  1.6600013e-02\n",
      "  4.4546151e+00 -1.3000700e+00 -2.6352043e+00  1.1399500e+00\n",
      "  1.8315576e+00 -2.9688001e+00 -7.6453247e+00  8.4300494e-01]\n"
     ]
    }
   ],
   "source": [
    "print(docs[0].vector)"
   ],
   "metadata": {
    "collapsed": false,
    "ExecuteTime": {
     "end_time": "2024-01-29T18:51:24.182939700Z",
     "start_time": "2024-01-29T18:51:24.177577500Z"
    }
   },
   "id": "8c960f152f9fb29f",
   "execution_count": 11
  },
  {
   "cell_type": "code",
   "outputs": [
    {
     "data": {
      "text/plain": "SVC(kernel='linear')",
      "text/html": "<style>#sk-container-id-1 {\n  /* Definition of color scheme common for light and dark mode */\n  --sklearn-color-text: black;\n  --sklearn-color-line: gray;\n  /* Definition of color scheme for unfitted estimators */\n  --sklearn-color-unfitted-level-0: #fff5e6;\n  --sklearn-color-unfitted-level-1: #f6e4d2;\n  --sklearn-color-unfitted-level-2: #ffe0b3;\n  --sklearn-color-unfitted-level-3: chocolate;\n  /* Definition of color scheme for fitted estimators */\n  --sklearn-color-fitted-level-0: #f0f8ff;\n  --sklearn-color-fitted-level-1: #d4ebff;\n  --sklearn-color-fitted-level-2: #b3dbfd;\n  --sklearn-color-fitted-level-3: cornflowerblue;\n\n  /* Specific color for light theme */\n  --sklearn-color-text-on-default-background: var(--sg-text-color, var(--theme-code-foreground, var(--jp-content-font-color1, black)));\n  --sklearn-color-background: var(--sg-background-color, var(--theme-background, var(--jp-layout-color0, white)));\n  --sklearn-color-border-box: var(--sg-text-color, var(--theme-code-foreground, var(--jp-content-font-color1, black)));\n  --sklearn-color-icon: #696969;\n\n  @media (prefers-color-scheme: dark) {\n    /* Redefinition of color scheme for dark theme */\n    --sklearn-color-text-on-default-background: var(--sg-text-color, var(--theme-code-foreground, var(--jp-content-font-color1, white)));\n    --sklearn-color-background: var(--sg-background-color, var(--theme-background, var(--jp-layout-color0, #111)));\n    --sklearn-color-border-box: var(--sg-text-color, var(--theme-code-foreground, var(--jp-content-font-color1, white)));\n    --sklearn-color-icon: #878787;\n  }\n}\n\n#sk-container-id-1 {\n  color: var(--sklearn-color-text);\n}\n\n#sk-container-id-1 pre {\n  padding: 0;\n}\n\n#sk-container-id-1 input.sk-hidden--visually {\n  border: 0;\n  clip: rect(1px 1px 1px 1px);\n  clip: rect(1px, 1px, 1px, 1px);\n  height: 1px;\n  margin: -1px;\n  overflow: hidden;\n  padding: 0;\n  position: absolute;\n  width: 1px;\n}\n\n#sk-container-id-1 div.sk-dashed-wrapped {\n  border: 1px dashed var(--sklearn-color-line);\n  margin: 0 0.4em 0.5em 0.4em;\n  box-sizing: border-box;\n  padding-bottom: 0.4em;\n  background-color: var(--sklearn-color-background);\n}\n\n#sk-container-id-1 div.sk-container {\n  /* jupyter's `normalize.less` sets `[hidden] { display: none; }`\n     but bootstrap.min.css set `[hidden] { display: none !important; }`\n     so we also need the `!important` here to be able to override the\n     default hidden behavior on the sphinx rendered scikit-learn.org.\n     See: https://github.com/scikit-learn/scikit-learn/issues/21755 */\n  display: inline-block !important;\n  position: relative;\n}\n\n#sk-container-id-1 div.sk-text-repr-fallback {\n  display: none;\n}\n\ndiv.sk-parallel-item,\ndiv.sk-serial,\ndiv.sk-item {\n  /* draw centered vertical line to link estimators */\n  background-image: linear-gradient(var(--sklearn-color-text-on-default-background), var(--sklearn-color-text-on-default-background));\n  background-size: 2px 100%;\n  background-repeat: no-repeat;\n  background-position: center center;\n}\n\n/* Parallel-specific style estimator block */\n\n#sk-container-id-1 div.sk-parallel-item::after {\n  content: \"\";\n  width: 100%;\n  border-bottom: 2px solid var(--sklearn-color-text-on-default-background);\n  flex-grow: 1;\n}\n\n#sk-container-id-1 div.sk-parallel {\n  display: flex;\n  align-items: stretch;\n  justify-content: center;\n  background-color: var(--sklearn-color-background);\n  position: relative;\n}\n\n#sk-container-id-1 div.sk-parallel-item {\n  display: flex;\n  flex-direction: column;\n}\n\n#sk-container-id-1 div.sk-parallel-item:first-child::after {\n  align-self: flex-end;\n  width: 50%;\n}\n\n#sk-container-id-1 div.sk-parallel-item:last-child::after {\n  align-self: flex-start;\n  width: 50%;\n}\n\n#sk-container-id-1 div.sk-parallel-item:only-child::after {\n  width: 0;\n}\n\n/* Serial-specific style estimator block */\n\n#sk-container-id-1 div.sk-serial {\n  display: flex;\n  flex-direction: column;\n  align-items: center;\n  background-color: var(--sklearn-color-background);\n  padding-right: 1em;\n  padding-left: 1em;\n}\n\n\n/* Toggleable style: style used for estimator/Pipeline/ColumnTransformer box that is\nclickable and can be expanded/collapsed.\n- Pipeline and ColumnTransformer use this feature and define the default style\n- Estimators will overwrite some part of the style using the `sk-estimator` class\n*/\n\n/* Pipeline and ColumnTransformer style (default) */\n\n#sk-container-id-1 div.sk-toggleable {\n  /* Default theme specific background. It is overwritten whether we have a\n  specific estimator or a Pipeline/ColumnTransformer */\n  background-color: var(--sklearn-color-background);\n}\n\n/* Toggleable label */\n#sk-container-id-1 label.sk-toggleable__label {\n  cursor: pointer;\n  display: block;\n  width: 100%;\n  margin-bottom: 0;\n  padding: 0.5em;\n  box-sizing: border-box;\n  text-align: center;\n}\n\n#sk-container-id-1 label.sk-toggleable__label-arrow:before {\n  /* Arrow on the left of the label */\n  content: \"▸\";\n  float: left;\n  margin-right: 0.25em;\n  color: var(--sklearn-color-icon);\n}\n\n#sk-container-id-1 label.sk-toggleable__label-arrow:hover:before {\n  color: var(--sklearn-color-text);\n}\n\n/* Toggleable content - dropdown */\n\n#sk-container-id-1 div.sk-toggleable__content {\n  max-height: 0;\n  max-width: 0;\n  overflow: hidden;\n  text-align: left;\n  /* unfitted */\n  background-color: var(--sklearn-color-unfitted-level-0);\n}\n\n#sk-container-id-1 div.sk-toggleable__content.fitted {\n  /* fitted */\n  background-color: var(--sklearn-color-fitted-level-0);\n}\n\n#sk-container-id-1 div.sk-toggleable__content pre {\n  margin: 0.2em;\n  border-radius: 0.25em;\n  color: var(--sklearn-color-text);\n  /* unfitted */\n  background-color: var(--sklearn-color-unfitted-level-0);\n}\n\n#sk-container-id-1 div.sk-toggleable__content.fitted pre {\n  /* unfitted */\n  background-color: var(--sklearn-color-fitted-level-0);\n}\n\n#sk-container-id-1 input.sk-toggleable__control:checked~div.sk-toggleable__content {\n  /* Expand drop-down */\n  max-height: 200px;\n  max-width: 100%;\n  overflow: auto;\n}\n\n#sk-container-id-1 input.sk-toggleable__control:checked~label.sk-toggleable__label-arrow:before {\n  content: \"▾\";\n}\n\n/* Pipeline/ColumnTransformer-specific style */\n\n#sk-container-id-1 div.sk-label input.sk-toggleable__control:checked~label.sk-toggleable__label {\n  color: var(--sklearn-color-text);\n  background-color: var(--sklearn-color-unfitted-level-2);\n}\n\n#sk-container-id-1 div.sk-label.fitted input.sk-toggleable__control:checked~label.sk-toggleable__label {\n  background-color: var(--sklearn-color-fitted-level-2);\n}\n\n/* Estimator-specific style */\n\n/* Colorize estimator box */\n#sk-container-id-1 div.sk-estimator input.sk-toggleable__control:checked~label.sk-toggleable__label {\n  /* unfitted */\n  background-color: var(--sklearn-color-unfitted-level-2);\n}\n\n#sk-container-id-1 div.sk-estimator.fitted input.sk-toggleable__control:checked~label.sk-toggleable__label {\n  /* fitted */\n  background-color: var(--sklearn-color-fitted-level-2);\n}\n\n#sk-container-id-1 div.sk-label label.sk-toggleable__label,\n#sk-container-id-1 div.sk-label label {\n  /* The background is the default theme color */\n  color: var(--sklearn-color-text-on-default-background);\n}\n\n/* On hover, darken the color of the background */\n#sk-container-id-1 div.sk-label:hover label.sk-toggleable__label {\n  color: var(--sklearn-color-text);\n  background-color: var(--sklearn-color-unfitted-level-2);\n}\n\n/* Label box, darken color on hover, fitted */\n#sk-container-id-1 div.sk-label.fitted:hover label.sk-toggleable__label.fitted {\n  color: var(--sklearn-color-text);\n  background-color: var(--sklearn-color-fitted-level-2);\n}\n\n/* Estimator label */\n\n#sk-container-id-1 div.sk-label label {\n  font-family: monospace;\n  font-weight: bold;\n  display: inline-block;\n  line-height: 1.2em;\n}\n\n#sk-container-id-1 div.sk-label-container {\n  text-align: center;\n}\n\n/* Estimator-specific */\n#sk-container-id-1 div.sk-estimator {\n  font-family: monospace;\n  border: 1px dotted var(--sklearn-color-border-box);\n  border-radius: 0.25em;\n  box-sizing: border-box;\n  margin-bottom: 0.5em;\n  /* unfitted */\n  background-color: var(--sklearn-color-unfitted-level-0);\n}\n\n#sk-container-id-1 div.sk-estimator.fitted {\n  /* fitted */\n  background-color: var(--sklearn-color-fitted-level-0);\n}\n\n/* on hover */\n#sk-container-id-1 div.sk-estimator:hover {\n  /* unfitted */\n  background-color: var(--sklearn-color-unfitted-level-2);\n}\n\n#sk-container-id-1 div.sk-estimator.fitted:hover {\n  /* fitted */\n  background-color: var(--sklearn-color-fitted-level-2);\n}\n\n/* Specification for estimator info (e.g. \"i\" and \"?\") */\n\n/* Common style for \"i\" and \"?\" */\n\n.sk-estimator-doc-link,\na:link.sk-estimator-doc-link,\na:visited.sk-estimator-doc-link {\n  float: right;\n  font-size: smaller;\n  line-height: 1em;\n  font-family: monospace;\n  background-color: var(--sklearn-color-background);\n  border-radius: 1em;\n  height: 1em;\n  width: 1em;\n  text-decoration: none !important;\n  margin-left: 1ex;\n  /* unfitted */\n  border: var(--sklearn-color-unfitted-level-1) 1pt solid;\n  color: var(--sklearn-color-unfitted-level-1);\n}\n\n.sk-estimator-doc-link.fitted,\na:link.sk-estimator-doc-link.fitted,\na:visited.sk-estimator-doc-link.fitted {\n  /* fitted */\n  border: var(--sklearn-color-fitted-level-1) 1pt solid;\n  color: var(--sklearn-color-fitted-level-1);\n}\n\n/* On hover */\ndiv.sk-estimator:hover .sk-estimator-doc-link:hover,\n.sk-estimator-doc-link:hover,\ndiv.sk-label-container:hover .sk-estimator-doc-link:hover,\n.sk-estimator-doc-link:hover {\n  /* unfitted */\n  background-color: var(--sklearn-color-unfitted-level-3);\n  color: var(--sklearn-color-background);\n  text-decoration: none;\n}\n\ndiv.sk-estimator.fitted:hover .sk-estimator-doc-link.fitted:hover,\n.sk-estimator-doc-link.fitted:hover,\ndiv.sk-label-container:hover .sk-estimator-doc-link.fitted:hover,\n.sk-estimator-doc-link.fitted:hover {\n  /* fitted */\n  background-color: var(--sklearn-color-fitted-level-3);\n  color: var(--sklearn-color-background);\n  text-decoration: none;\n}\n\n/* Span, style for the box shown on hovering the info icon */\n.sk-estimator-doc-link span {\n  display: none;\n  z-index: 9999;\n  position: relative;\n  font-weight: normal;\n  right: .2ex;\n  padding: .5ex;\n  margin: .5ex;\n  width: min-content;\n  min-width: 20ex;\n  max-width: 50ex;\n  color: var(--sklearn-color-text);\n  box-shadow: 2pt 2pt 4pt #999;\n  /* unfitted */\n  background: var(--sklearn-color-unfitted-level-0);\n  border: .5pt solid var(--sklearn-color-unfitted-level-3);\n}\n\n.sk-estimator-doc-link.fitted span {\n  /* fitted */\n  background: var(--sklearn-color-fitted-level-0);\n  border: var(--sklearn-color-fitted-level-3);\n}\n\n.sk-estimator-doc-link:hover span {\n  display: block;\n}\n\n/* \"?\"-specific style due to the `<a>` HTML tag */\n\n#sk-container-id-1 a.estimator_doc_link {\n  float: right;\n  font-size: 1rem;\n  line-height: 1em;\n  font-family: monospace;\n  background-color: var(--sklearn-color-background);\n  border-radius: 1rem;\n  height: 1rem;\n  width: 1rem;\n  text-decoration: none;\n  /* unfitted */\n  color: var(--sklearn-color-unfitted-level-1);\n  border: var(--sklearn-color-unfitted-level-1) 1pt solid;\n}\n\n#sk-container-id-1 a.estimator_doc_link.fitted {\n  /* fitted */\n  border: var(--sklearn-color-fitted-level-1) 1pt solid;\n  color: var(--sklearn-color-fitted-level-1);\n}\n\n/* On hover */\n#sk-container-id-1 a.estimator_doc_link:hover {\n  /* unfitted */\n  background-color: var(--sklearn-color-unfitted-level-3);\n  color: var(--sklearn-color-background);\n  text-decoration: none;\n}\n\n#sk-container-id-1 a.estimator_doc_link.fitted:hover {\n  /* fitted */\n  background-color: var(--sklearn-color-fitted-level-3);\n}\n</style><div id=\"sk-container-id-1\" class=\"sk-top-container\"><div class=\"sk-text-repr-fallback\"><pre>SVC(kernel=&#x27;linear&#x27;)</pre><b>In a Jupyter environment, please rerun this cell to show the HTML representation or trust the notebook. <br />On GitHub, the HTML representation is unable to render, please try loading this page with nbviewer.org.</b></div><div class=\"sk-container\" hidden><div class=\"sk-item\"><div class=\"sk-estimator fitted sk-toggleable\"><input class=\"sk-toggleable__control sk-hidden--visually\" id=\"sk-estimator-id-1\" type=\"checkbox\" checked><label for=\"sk-estimator-id-1\" class=\"sk-toggleable__label fitted sk-toggleable__label-arrow fitted\">&nbsp;&nbsp;SVC<a class=\"sk-estimator-doc-link fitted\" rel=\"noreferrer\" target=\"_blank\" href=\"https://scikit-learn.org/1.4/modules/generated/sklearn.svm.SVC.html\">?<span>Documentation for SVC</span></a><span class=\"sk-estimator-doc-link fitted\">i<span>Fitted</span></span></label><div class=\"sk-toggleable__content fitted\"><pre>SVC(kernel=&#x27;linear&#x27;)</pre></div> </div></div></div></div>"
     },
     "execution_count": 13,
     "metadata": {},
     "output_type": "execute_result"
    }
   ],
   "source": [
    "from sklearn import svm\n",
    "clf_svm_wv = svm.SVC(kernel='linear')\n",
    "clf_svm_wv.fit(train_x_word_vectors,train_y)"
   ],
   "metadata": {
    "collapsed": false,
    "ExecuteTime": {
     "end_time": "2024-01-29T18:52:43.776826200Z",
     "start_time": "2024-01-29T18:52:43.377766100Z"
    }
   },
   "id": "cc9c0a9cb8afac68",
   "execution_count": 13
  },
  {
   "cell_type": "code",
   "outputs": [],
   "source": [
    "test_x = [\"i love the book\",\"i love the story\",\"i love the hat\",\"these earings hurt\"]\n",
    "test_docs = [nlp(text) for text in test_x]\n",
    "test_docs_word_vectors = [x.vector for x in test_docs]"
   ],
   "metadata": {
    "collapsed": false,
    "ExecuteTime": {
     "end_time": "2024-01-29T19:06:33.881798800Z",
     "start_time": "2024-01-29T19:06:33.858707200Z"
    }
   },
   "id": "7fb09060df8f7e58",
   "execution_count": 20
  },
  {
   "cell_type": "code",
   "outputs": [
    {
     "data": {
      "text/plain": "array(['BOOKS', 'BOOKS', 'CLOTHING', 'CLOTHING'], dtype='<U8')"
     },
     "execution_count": 21,
     "metadata": {},
     "output_type": "execute_result"
    }
   ],
   "source": [
    "clf_svm_wv.predict(test_docs_word_vectors)"
   ],
   "metadata": {
    "collapsed": false,
    "ExecuteTime": {
     "end_time": "2024-01-29T19:06:34.954617200Z",
     "start_time": "2024-01-29T19:06:34.950637100Z"
    }
   },
   "id": "79e0715fe046bcbf",
   "execution_count": 21
  },
  {
   "cell_type": "code",
   "outputs": [],
   "source": [],
   "metadata": {
    "collapsed": false
   },
   "id": "901770681f19dcb7"
  }
 ],
 "metadata": {
  "kernelspec": {
   "display_name": "Python 3",
   "language": "python",
   "name": "python3"
  },
  "language_info": {
   "codemirror_mode": {
    "name": "ipython",
    "version": 2
   },
   "file_extension": ".py",
   "mimetype": "text/x-python",
   "name": "python",
   "nbconvert_exporter": "python",
   "pygments_lexer": "ipython2",
   "version": "2.7.6"
  }
 },
 "nbformat": 4,
 "nbformat_minor": 5
}
