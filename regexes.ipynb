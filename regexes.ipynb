{
 "cells": [
  {
   "cell_type": "markdown",
   "source": [
    "REGEXES\n",
    "\n",
    "Patter matching of strings"
   ],
   "metadata": {
    "collapsed": false
   },
   "id": "93a994f474d7cb8b"
  },
  {
   "cell_type": "code",
   "execution_count": 1,
   "id": "initial_id",
   "metadata": {
    "collapsed": true,
    "ExecuteTime": {
     "end_time": "2024-01-29T19:19:13.634656400Z",
     "start_time": "2024-01-29T19:19:13.628081100Z"
    }
   },
   "outputs": [],
   "source": [
    "import re"
   ]
  },
  {
   "cell_type": "code",
   "outputs": [],
   "source": [
    "regexp = re.compile(r\"ab[^\\s]*cd\")\n",
    "\n",
    "phrases = [\"abcd\",\"xxx\",\"absggacd\",\"ab  cd\",\"agjfasf abdadfsfcd ksdgjsjg \"]\n",
    "\n",
    "matches = []"
   ],
   "metadata": {
    "collapsed": false,
    "ExecuteTime": {
     "end_time": "2024-01-29T20:12:02.215239900Z",
     "start_time": "2024-01-29T20:12:02.206993900Z"
    }
   },
   "id": "3735ec60dd0cbd6f",
   "execution_count": 16
  },
  {
   "cell_type": "code",
   "outputs": [
    {
     "name": "stdout",
     "output_type": "stream",
     "text": [
      "abcd\n",
      "absggacd\n",
      "['abcd', 'absggacd']\n"
     ]
    }
   ],
   "source": [
    "for phrase in phrases:\n",
    "    if re.match(regexp,phrase):\n",
    "        print(phrase)\n",
    "        matches.append(phrase)\n",
    "    \n",
    "        \n",
    "print(matches)"
   ],
   "metadata": {
    "collapsed": false,
    "ExecuteTime": {
     "end_time": "2024-01-29T20:12:03.976567700Z",
     "start_time": "2024-01-29T20:12:03.972002Z"
    }
   },
   "id": "9c45393d5c1812dc",
   "execution_count": 17
  },
  {
   "cell_type": "code",
   "outputs": [
    {
     "name": "stdout",
     "output_type": "stream",
     "text": [
      "['abcd', 'absggacd', 'abcd', 'absggacd', 'agjfasf abdadfsfcd ksdgjsjg ']\n"
     ]
    }
   ],
   "source": [
    "for phrase in phrases:\n",
    "    if re.search(regexp,phrase):\n",
    "        matches.append(phrase)\n",
    "        \n",
    "print(matches)"
   ],
   "metadata": {
    "collapsed": false,
    "ExecuteTime": {
     "end_time": "2024-01-29T20:12:09.201005300Z",
     "start_time": "2024-01-29T20:12:09.194743300Z"
    }
   },
   "id": "293ebab38c68fb5e",
   "execution_count": 18
  },
  {
   "cell_type": "code",
   "outputs": [],
   "source": [
    "regexp = re.compile(r\"read|story|book\")\n",
    "phrases = [\"i liked that story\", \" i like that book\", \"this hat is nice \",\"i liked that history\",\"the car treaded up the hill \"]\n",
    "matches = []"
   ],
   "metadata": {
    "collapsed": false,
    "ExecuteTime": {
     "end_time": "2024-01-29T20:15:59.498243200Z",
     "start_time": "2024-01-29T20:15:59.491759Z"
    }
   },
   "id": "1cb69339fba37f45",
   "execution_count": 22
  },
  {
   "cell_type": "code",
   "outputs": [
    {
     "name": "stdout",
     "output_type": "stream",
     "text": [
      "['i liked that story', ' i like that book', 'i liked that history', 'the car treaded up the hill ']\n"
     ]
    }
   ],
   "source": [
    "for phrase in phrases:\n",
    "    if re.search(regexp,phrase):\n",
    "        matches.append(phrase)\n",
    "print(matches)"
   ],
   "metadata": {
    "collapsed": false,
    "ExecuteTime": {
     "end_time": "2024-01-29T20:16:01.162866200Z",
     "start_time": "2024-01-29T20:16:01.159051100Z"
    }
   },
   "id": "2f9171c1c6a9cc9a",
   "execution_count": 23
  },
  {
   "cell_type": "code",
   "outputs": [
    {
     "name": "stdout",
     "output_type": "stream",
     "text": [
      "['i liked that story', ' i like that book']\n"
     ]
    }
   ],
   "source": [
    "regexp = re.compile(r\"\\bread\\b|\\bstory\\b|\\bbook\\b\")\n",
    "ans = []\n",
    "for phrase in phrases:\n",
    "    if re.search(regexp,phrase):\n",
    "        ans.append(phrase)\n",
    "print(ans)"
   ],
   "metadata": {
    "collapsed": false,
    "ExecuteTime": {
     "end_time": "2024-01-29T20:17:30.266452Z",
     "start_time": "2024-01-29T20:17:30.258319800Z"
    }
   },
   "id": "9ca78115a95911b2",
   "execution_count": 24
  },
  {
   "cell_type": "code",
   "outputs": [],
   "source": [],
   "metadata": {
    "collapsed": false
   },
   "id": "cc8eac7ce09a4466"
  }
 ],
 "metadata": {
  "kernelspec": {
   "display_name": "Python 3",
   "language": "python",
   "name": "python3"
  },
  "language_info": {
   "codemirror_mode": {
    "name": "ipython",
    "version": 2
   },
   "file_extension": ".py",
   "mimetype": "text/x-python",
   "name": "python",
   "nbconvert_exporter": "python",
   "pygments_lexer": "ipython2",
   "version": "2.7.6"
  }
 },
 "nbformat": 4,
 "nbformat_minor": 5
}
